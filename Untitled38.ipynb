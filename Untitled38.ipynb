{
 "cells": [
  {
   "cell_type": "code",
   "execution_count": null,
   "id": "0950ebe6-a3f0-4ef9-b893-bb87a52638d0",
   "metadata": {},
   "outputs": [
    {
     "name": "stdout",
     "output_type": "stream",
     "text": [
      "Listening...\n",
      "Recognizing...\n",
      "You said: what is your name\n",
      "Listening...\n",
      "Recognizing...\n",
      "Sorry, I did not understand that.\n",
      "Listening...\n",
      "Recognizing...\n",
      "You said: current time is 1042\n",
      "Listening...\n",
      "Recognizing...\n"
     ]
    }
   ],
   "source": [
    "import speech_recognition as sr\n",
    "import pyttsx3\n",
    "\n",
    "# Initialize the speech engine\n",
    "engine = pyttsx3.init()\n",
    "\n",
    "# Function to make the assistant speak\n",
    "def speak(text):\n",
    "    engine.say(text)\n",
    "    engine.runAndWait()\n",
    "\n",
    "# Function to take voice input\n",
    "def listen():\n",
    "    recognizer = sr.Recognizer()\n",
    "    with sr.Microphone() as source:\n",
    "        print(\"Listening...\")\n",
    "        recognizer.adjust_for_ambient_noise(source)\n",
    "        audio = recognizer.listen(source)\n",
    "        try:\n",
    "            print(\"Recognizing...\")\n",
    "            query = recognizer.recognize_google(audio)\n",
    "            print(f\"You said: {query}\")\n",
    "            return query.lower()\n",
    "        except sr.UnknownValueError:\n",
    "            print(\"Sorry, I did not understand that.\")\n",
    "            speak(\"Sorry, I did not understand that.\")\n",
    "            return \"\"\n",
    "        except sr.RequestError:\n",
    "            print(\"Speech service is down.\")\n",
    "            speak(\"Speech service is down.\")\n",
    "            return \"\"\n",
    "\n",
    "# Main function to run the assistant\n",
    "def assistant():\n",
    "    speak(\"Hello, I am your assistant. How can I help you?\")\n",
    "    while True:\n",
    "        query = listen()\n",
    "        if 'exit' in query or 'bye' in query:\n",
    "            speak(\"Goodbye!\")\n",
    "            break\n",
    "        elif 'your name' in query:\n",
    "            speak(\"My name is Python Voice Assistant.\")\n",
    "        elif 'time' in query:\n",
    "            from datetime import datetime\n",
    "            now = datetime.now()\n",
    "            current_time = now.strftime(\"%H:%M\")\n",
    "            speak(f\"The current time is {current_time}\")\n",
    "        elif 'search' in query:\n",
    "            speak(\"What do you want to search for?\")\n",
    "            search_query = listen()\n",
    "            if search_query:\n",
    "                speak(f\"Searching for {search_query}...\")\n",
    "                # Here you could add code to open a browser and search online\n",
    "                # using webbrowser module\n",
    "        else:\n",
    "            speak(\"Sorry, I can't do that yet.\")\n",
    "\n",
    "# Run the assistant\n",
    "if __name__ == \"__main__\":\n",
    "    assistant()"
   ]
  },
  {
   "cell_type": "code",
   "execution_count": null,
   "id": "b571ba95-0b1e-41bc-b7e8-8230abcb7db9",
   "metadata": {},
   "outputs": [],
   "source": []
  }
 ],
 "metadata": {
  "kernelspec": {
   "display_name": "Python 3 (ipykernel)",
   "language": "python",
   "name": "python3"
  },
  "language_info": {
   "codemirror_mode": {
    "name": "ipython",
    "version": 3
   },
   "file_extension": ".py",
   "mimetype": "text/x-python",
   "name": "python",
   "nbconvert_exporter": "python",
   "pygments_lexer": "ipython3",
   "version": "3.12.3"
  }
 },
 "nbformat": 4,
 "nbformat_minor": 5
}
